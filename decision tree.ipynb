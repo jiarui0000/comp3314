{
 "cells": [
  {
   "cell_type": "code",
   "execution_count": 1,
   "metadata": {},
   "outputs": [],
   "source": [
    "class TreeNode(object):\n",
    "    def __init__(self, X, y, childs=[], info=None, isLeaf=True, split_feature=None, split_value=None):\n",
    "        self.X = X\n",
    "        self.y = y\n",
    "        self.isLeaf = isLeaf\n",
    "        self.split_feature = split_feature\n",
    "        self.split_value = split_value\n",
    "        self.childs = childs\n",
    "        self.info = info\n",
    "        self.classes = np.unique(y)\n",
    "        counter=[]\n",
    "        for c in self.classes:\n",
    "            counter.append(np.sum(y==c))\n",
    "        self.class_ = self.classes[np.argmax(counter)]\n",
    "    def predict_single(self, X):\n",
    "        if self.isLeaf:\n",
    "            return self.class_\n",
    "        else:\n",
    "            if ((type(self.split_value) == int) | (type(self.split_value) == float)):\n",
    "                if (X[self.split_feature] >= self.split_value):\n",
    "                    return self.childs[0].predict_single(X)\n",
    "                else:\n",
    "                    return self.childs[1].predict_single(X)\n",
    "            else:\n",
    "                if (X[self.split_feature] == self.split_value):\n",
    "                    return self.childs[0].predict_single(X)\n",
    "                else:\n",
    "                    return self.childs[1].predict_single(X)\n",
    "    def predict(self, X):\n",
    "        if len(X.shape) > 0:\n",
    "            y_temp = []\n",
    "            for i in range(X.shape[0]):\n",
    "                y_temp.append(self.predict_single(X[i]))\n",
    "            return np.array(y_temp)\n",
    "        else:\n",
    "            return self.predict_single(X)"
   ]
  },
  {
   "cell_type": "code",
   "execution_count": 2,
   "metadata": {},
   "outputs": [],
   "source": [
    "import numpy as np\n",
    "class DecisionTree(object):\n",
    "    def __init__(self, eta=0.01, n_iter=50, random_state=1, impurity_mode='gini', max_depth=5, min_gain=0.0):\n",
    "        self.eta = eta\n",
    "        self.n_iter = n_iter\n",
    "        self.random_state = random_state\n",
    "        self.max_depth = max_depth\n",
    "        self.min_gain = min_gain\n",
    "        self.impurity_mode = impurity_mode\n",
    "        # self.gini_max, self.entropy_max, self.classification_error_max = 0.5, 1.0, 0.5\n",
    "        \n",
    "    def impurity(self, y):\n",
    "        if self.impurity_mode == 'gini':\n",
    "            return self.gini(y)\n",
    "        elif self.impurity_mode == 'entropy':\n",
    "            return self.entropy(y)\n",
    "        else:\n",
    "            return self.classification_error(y)\n",
    "        \n",
    "    def gini(self, t):  # gini impuruty, t is the set of labels\n",
    "        tags = np.unique(t)\n",
    "        ig = 1\n",
    "        for tag in tags:\n",
    "            prob = np.sum(t==tag)/len(t)\n",
    "            ig -= prob**(2)\n",
    "        return ig \n",
    "    \n",
    "    def entropy(self, t):\n",
    "        tags = np.unique(t)\n",
    "        en = 0\n",
    "        for tag in tags:\n",
    "            prob = np.sum(t==tag)/len(t)\n",
    "            en -= prob*np.log2(prob)\n",
    "        return en        \n",
    "    \n",
    "    def classification_error(self, t):\n",
    "        tags = np.unique(t)\n",
    "        prob = []\n",
    "        for tag in tags:\n",
    "            prob.append(np.sum(t==tag)/len(t))\n",
    "        return 1-max(prob)\n",
    "    \n",
    "    def split(self, X, y, feature, value):  # binary split\n",
    "        n_child = 2\n",
    "        cX, cy = [], []\n",
    "        childnode_X, childnode_y = [], []\n",
    "        for _ in range(n_child):\n",
    "            cX.append([])\n",
    "            cy.append([])\n",
    "        if ((type(value) == int) | (type(value) == float)):\n",
    "            for i in range(X.shape[0]):\n",
    "                if (X[i, feature] >= value):\n",
    "                    cX[0].append(X[i])\n",
    "                    cy[0].append(y[i])\n",
    "                else:\n",
    "                    cX[1].append(X[i])\n",
    "                    cy[1].append(y[i])\n",
    "        else:\n",
    "            for i in range(X.shape[0]):\n",
    "                if (X[i, feature] == value):\n",
    "                    cX[0].append(X[i])\n",
    "                    cy[0].append(y[i])\n",
    "                else:\n",
    "                    cX[1].append(X[i])\n",
    "                    cy[1].append(y[i])\n",
    "        for i in range(n_child):\n",
    "            childnode_X.append(np.array(cX[i]))\n",
    "            childnode_y.append(np.array(cy[i]))\n",
    "        return childnode_X, childnode_y\n",
    "    \n",
    "    def build_decision_tree(self, X, y, depth=0):\n",
    "        if depth==0:\n",
    "            self.root = self.build_decision_tree(X, y, depth=1)\n",
    "        else:\n",
    "            impurity_current = self.impurity(y)\n",
    "            gain_best, feature_best, value_best, child_best_X, child_best_y = 0.0, None, None, None, None\n",
    "        \n",
    "            n_features = X.shape[1]\n",
    "            for feature in range(n_features):\n",
    "                values_ = np.unique(X[:, feature])\n",
    "                for value in values_:\n",
    "                    childnode_X, childnode_y = self.split(X, y, feature, value)\n",
    "                    p = len(childnode_y[0])/len(y)\n",
    "                    info_gain = impurity_current - p * self.impurity(childnode_y[0]) - (1-p) * self.impurity(childnode_y[1])\n",
    "                    if info_gain > gain_best:\n",
    "                        gain_best, feature_best, value_best = info_gain, feature, value\n",
    "                        child_best_X, child_best_y = childnode_X, childnode_y\n",
    "        \n",
    "            if gain_best > self.min_gain:\n",
    "                info = (depth, impurity_current, (len(child_best_y[0]), len(child_best_y[1])))\n",
    "                isnotLeaf = (depth <= self.max_depth) & (len(child_best_y[0])>0) & (len(child_best_y[1])>0)\n",
    "                if isnotLeaf:\n",
    "                    childs = []\n",
    "                    for i in range(2):\n",
    "                        childs.append(self.build_decision_tree(child_best_X[i], child_best_y[i], depth+1))\n",
    "                    return TreeNode(X=X, y=y, childs=childs, info=info, isLeaf=False, split_feature=feature_best, split_value=value_best)\n",
    "                else:\n",
    "                    return TreeNode(X=X, y=y, info=info, isLeaf=True)\n",
    "            else:\n",
    "                return TreeNode(X=X, y=y, info=(depth, impurity_current, (-1, -1)), isLeaf=True)\n",
    "    def predict(self, X):\n",
    "        return self.root.predict(X)"
   ]
  },
  {
   "cell_type": "code",
   "execution_count": 4,
   "metadata": {},
   "outputs": [],
   "source": [
    "import numpy as np\n",
    "import pandas as pd  \n",
    "df_trainX = pd.read_csv(\"/home/jiarui/Documents/3314/COMP3314_a1/dataset_files/car_X_train.csv\", header=0, error_bad_lines=False)\n",
    "df_trainy = pd.read_csv(\"/home/jiarui/Documents/3314/COMP3314_a1/dataset_files/car_y_train.csv\", header=0, error_bad_lines=False)\n",
    "df_testX = pd.read_csv(\"/home/jiarui/Documents/3314/COMP3314_a1/dataset_files/car_X_test.csv\", header=0, error_bad_lines=False)\n",
    "df_testy = pd.read_csv(\"/home/jiarui/Documents/3314/COMP3314_a1/dataset_files/car_y_test.csv\", header=0, error_bad_lines=False)\n",
    "X_train = df_trainX.iloc[:].values\n",
    "y_train = df_trainy.iloc[:, 0].values \n",
    "X_test = df_testX.iloc[:].values\n",
    "y_test = df_testy.iloc[:, 0].values\n",
    "\n",
    "markers = ('o', 'x', 's', '^', 'v')\n",
    "colors = ('red', 'blue', 'lightgreen', 'gray', 'cyan')\n",
    "labels = np.unique(y_train)"
   ]
  },
  {
   "cell_type": "code",
   "execution_count": 5,
   "metadata": {},
   "outputs": [
    {
     "data": {
      "text/plain": [
       "0.6658000000000001"
      ]
     },
     "execution_count": 5,
     "metadata": {},
     "output_type": "execute_result"
    }
   ],
   "source": [
    "dt = DecisionTree(max_depth=6)\n",
    "dt.gini(y_train)"
   ]
  },
  {
   "cell_type": "code",
   "execution_count": 17,
   "metadata": {},
   "outputs": [],
   "source": [
    "import random\n",
    "sample_index = []\n",
    "X_sample = []\n",
    "y_sample = []\n",
    "feature_index = np.random.randint(0, X_train.shape[1], size=3)\n",
    "for _ in range(100):\n",
    "    i = np.random.randint(0, X_train.shape[0])\n",
    "    sample_index.append(i)\n",
    "    x_temp = []\n",
    "    for j in range(3):\n",
    "        x_temp.append(X_train[i][j])\n",
    "    X_sample.append(np.array(x_temp))\n",
    "    y_sample.append(y_train[i])\n",
    "dt.build_decision_tree(np.array(X_sample), np.array(y_sample))"
   ]
  },
  {
   "cell_type": "code",
   "execution_count": 18,
   "metadata": {},
   "outputs": [
    {
     "name": "stdout",
     "output_type": "stream",
     "text": [
      "0.17 0.32\n"
     ]
    }
   ],
   "source": [
    "y_pred = dt.predict(X_test)\n",
    "test_error=(y_test!=y_pred).sum()\n",
    "y_pred = dt.predict(X_train)\n",
    "train_error=(y_train!=y_pred).sum()\n",
    "print(train_error/len(y_train), test_error/len(y_test))"
   ]
  },
  {
   "cell_type": "code",
   "execution_count": 16,
   "metadata": {},
   "outputs": [
    {
     "data": {
      "image/png": "[encoded data removed]",
      "text/plain": [
       "<Figure size 432x288 with 1 Axes>"
      ]
     },
     "metadata": {
      "needs_background": "light"
     },
     "output_type": "display_data"
    }
   ],
   "source": [
    "import matplotlib.pyplot as plt\n",
    "\n",
    "max_depth = []\n",
    "train_error = []\n",
    "test_error = []\n",
    "for i in range(16):\n",
    "    max_depth.append(1+i)\n",
    "    dt = DecisionTree(max_depth=max_depth[i])\n",
    "    dt.build_decision_tree(X_train, y_train)\n",
    "    y_pred = dt.predict(X_test)\n",
    "    test_error.append((y_test!=y_pred).sum()/len(y_test)*100)\n",
    "    y_pred = dt.predict(X_train)\n",
    "    train_error.append((y_train!=y_pred).sum()/len(y_train)*100)\n",
    "\n",
    "plt.title(\"Decision Tree\")\n",
    "plt.xlabel('maximum depth')\n",
    "plt.ylabel('error percentage')\n",
    "plt.plot(max_depth, test_error, marker='o', color='blue', label='test sample')\n",
    "plt.plot(max_depth, train_error, marker='x', color='red', label='train sample')\n",
    "plt.legend(loc='upper right')\n",
    "plt.tight_layout()  # auto adjust the layout of whole picture\n",
    "plt.show()"
   ]
  },
  {
   "cell_type": "code",
   "execution_count": null,
   "metadata": {},
   "outputs": [],
   "source": []
  }
 ],
 "metadata": {
  "kernelspec": {
   "display_name": "Python 3",
   "language": "python",
   "name": "python3"
  },
  "language_info": {
   "codemirror_mode": {
    "name": "ipython",
    "version": 3
   },
   "file_extension": ".py",
   "mimetype": "text/x-python",
   "name": "python",
   "nbconvert_exporter": "python",
   "pygments_lexer": "ipython3",
   "version": "3.7.3"
  }
 },
 "nbformat": 4,
 "nbformat_minor": 2
}
