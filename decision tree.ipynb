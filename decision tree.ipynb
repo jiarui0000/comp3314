{
 "cells": [
  {
   "cell_type": "code",
   "execution_count": 136,
   "metadata": {},
   "outputs": [],
   "source": [
    "class TreeNode(object):\n",
    "    def __init__(self, X, y, childs=[], info=None, isLeaf=True, split_feature=None, split_value=None):\n",
    "        self.X = X\n",
    "        self.y = y\n",
    "        self.split_feature = split_feature\n",
    "        self.split_value = split_value\n",
    "        self.childs = childs\n",
    "        self.info = info\n",
    "        self.classes = np.unique(y)\n",
    "        counter=[]\n",
    "        for c in self.classes:\n",
    "            counter.append(np.sum(y==c))\n",
    "        self.class_ = self.classes[np.argmax(counter)]"
   ]
  },
  {
   "cell_type": "code",
   "execution_count": 137,
   "metadata": {},
   "outputs": [],
   "source": [
    "import numpy as np\n",
    "class DecisionTree(object):\n",
    "    def __init__(self, eta=0.01, n_iter=50, random_state=1, impurity_mode='gini', max_depth=5, min_gain=0.0):\n",
    "        self.eta = eta\n",
    "        self.n_iter = n_iter\n",
    "        self.random_state = random_state\n",
    "        self.max_depth = max_depth\n",
    "        self.min_gain = min_gain\n",
    "        self.impurity_mode = impurity_mode\n",
    "        # self.gini_max, self.entropy_max, self.classification_error_max = 0.5, 1.0, 0.5\n",
    "        \n",
    "    def impurity(self, y):\n",
    "        if self.impurity_mode == 'gini':\n",
    "            return self.gini(y)\n",
    "        elif self.impurity_mode == 'entropy':\n",
    "            return self.entropy(y)\n",
    "        else:\n",
    "            return self.classification_error(y)\n",
    "        \n",
    "    def gini(self, t):  # gini impuruty, t is the set of labels\n",
    "        tags = np.unique(t)\n",
    "        ig = 1\n",
    "        for tag in tags:\n",
    "            prob = np.sum(t==tag)/len(t)\n",
    "            ig -= prob**(2)\n",
    "        return ig \n",
    "    \n",
    "    def entropy(self, t):\n",
    "        tags = np.unique(t)\n",
    "        en = 0\n",
    "        for tag in tags:\n",
    "            prob = np.sum(t==tag)/len(t)\n",
    "            en -= prob*np.log2(prob)\n",
    "        return en        \n",
    "    \n",
    "    def classification_error(self, t):\n",
    "        tags = np.unique(t)\n",
    "        prob = []\n",
    "        for tag in tags:\n",
    "            prob.append(np.sum(t==tag)/len(t))\n",
    "        return 1-max(prob)\n",
    "    \n",
    "    def split(self, X, y, feature, value):  # binary split\n",
    "        n_child = 2\n",
    "        childnode_X = []\n",
    "        childnode_y = []\n",
    "        for _ in range(n_child):\n",
    "            childnode_X.append([])\n",
    "            childnode_y.append([])\n",
    "        if ((type(value) == int) | (type(value) == float)):\n",
    "            for i in range(X.shape[0]):\n",
    "                if (X[i, feature] >= value):\n",
    "                    childnode_X[0].append(X[i])\n",
    "                    childnode_y[0].append(y[i])\n",
    "                else:\n",
    "                    childnode_X[1].append(X[i])\n",
    "                    childnode_y[1].append(y[i])\n",
    "        else:\n",
    "            for i in range(X.shape[0]):\n",
    "                if (X[i, feature] == value):\n",
    "                    childnode_X[0].append(X[i])\n",
    "                    childnode_y[0].append(y[i])\n",
    "                else:\n",
    "                    childnode_X[1].append(X[i])\n",
    "                    childnode_y[1].append(y[i])\n",
    "        return childnode_X, childnode_y\n",
    "    \n",
    "    def build_decision_tree(self, X, y, depth=0):\n",
    "        impurity_current = self.impurity(y)\n",
    "        gain_best, feature_best, value_best, child_best = 0.0, None, None, None\n",
    "        \n",
    "        n_features = X.shape[1]\n",
    "        for feature in range(n_features):\n",
    "            values_ = np.unique(X[:, feature])\n",
    "            for value in values_:\n",
    "                childnode_X, childnode_y = self.split(X, y, feature, value)\n",
    "                p = len(childnode_y[0])/len(y)\n",
    "                info_gain = impurity_current - p * self.impurity(childnode_y[0]) - (1-p) * self.impurity(childnode_y[1])\n",
    "                if info_gain > gain_best:\n",
    "                    gain_best, feature_best, value_best, child_best = info_gain, feature, value, childnode\n",
    "        \n",
    "        info = (depth, impurity_current, (len(childnode_y[0]), len(childnode_y[1])), child_best)\n",
    "        \n",
    "        if ((gain_best > self.min_gain) & (depth < self.max_depth)):\n",
    "            childs = []\n",
    "            for i in range(2):\n",
    "                childs.append(build_decision_tree(childnode_X[i], child_node_y[i], depth+1))\n",
    "            return TreeNode(X=X, y=y, childs=childs, info=info, isLeaf=False, split_feature=feature_best, split_value=value_best)\n",
    "        else:\n",
    "            return TreeNode(X=X, y=y, info=info, isLeaf=True)"
   ]
  },
  {
   "cell_type": "code",
   "execution_count": 138,
   "metadata": {},
   "outputs": [],
   "source": [
    "import numpy as np\n",
    "import pandas as pd  \n",
    "df_trainX = pd.read_csv(\"/home/jiarui/Documents/3314/COMP3314_a1/dataset_files/car_X_train.csv\", header=0, error_bad_lines=False)\n",
    "df_trainy = pd.read_csv(\"/home/jiarui/Documents/3314/COMP3314_a1/dataset_files/car_y_train.csv\", header=0, error_bad_lines=False)\n",
    "df_testX = pd.read_csv(\"/home/jiarui/Documents/3314/COMP3314_a1/dataset_files/car_X_test.csv\", header=0, error_bad_lines=False)\n",
    "df_testy = pd.read_csv(\"/home/jiarui/Documents/3314/COMP3314_a1/dataset_files/car_y_test.csv\", header=0, error_bad_lines=False)\n",
    "X_train = df_trainX.iloc[:].values\n",
    "y_train = df_trainy.iloc[:, 0].values \n",
    "X_test = df_testX.iloc[:].values\n",
    "y_test = df_testy.iloc[:, 0].values\n",
    "\n",
    "markers = ('o', 'x', 's', '^', 'v')\n",
    "colors = ('red', 'blue', 'lightgreen', 'gray', 'cyan')\n",
    "labels = np.unique(y_train)"
   ]
  },
  {
   "cell_type": "code",
   "execution_count": 139,
   "metadata": {},
   "outputs": [
    {
     "data": {
      "text/plain": [
       "0.45210959162772174"
      ]
     },
     "execution_count": 139,
     "metadata": {},
     "output_type": "execute_result"
    }
   ],
   "source": [
    "dt = DecisionTree()\n",
    "dt.gini(y_train)"
   ]
  },
  {
   "cell_type": "code",
   "execution_count": 141,
   "metadata": {},
   "outputs": [],
   "source": [
    "root=dt.build_decision_tree(X_train, y_train)"
   ]
  },
  {
   "cell_type": "code",
   "execution_count": null,
   "metadata": {},
   "outputs": [],
   "source": []
  },
  {
   "cell_type": "code",
   "execution_count": null,
   "metadata": {},
   "outputs": [],
   "source": []
  }
 ],
 "metadata": {
  "kernelspec": {
   "display_name": "Python 3",
   "language": "python",
   "name": "python3"
  },
  "language_info": {
   "codemirror_mode": {
    "name": "ipython",
    "version": 3
   },
   "file_extension": ".py",
   "mimetype": "text/x-python",
   "name": "python",
   "nbconvert_exporter": "python",
   "pygments_lexer": "ipython3",
   "version": "3.7.3"
  }
 },
 "nbformat": 4,
 "nbformat_minor": 2
}
