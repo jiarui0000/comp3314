{
 "cells": [
  {
   "cell_type": "code",
   "execution_count": 7,
   "metadata": {},
   "outputs": [
    {
     "name": "stdout",
     "output_type": "stream",
     "text": [
      "(3.625, -0.425) (0.7666666666666666, 0.9666666666666667)\n"
     ]
    }
   ],
   "source": [
    "t = ((1.0, 1.0), (0.3, 0.4), (1.0, 1.5), (3.0, 0.2), (3.5, -0.8), (4.5, -0.6), (3.5, -0.5))\n",
    "l1 = [t[5], t[4], t[6], t[3]]\n",
    "l2 = [t[0], t[1], t[2]]\n",
    "xs1, ys1, xs2, ys2 = 0, 0, 0, 0\n",
    "for i in l1:\n",
    "    xs1 += i[0]\n",
    "    ys1 += i[1]\n",
    "xa1 = xs1 / len(l1)\n",
    "ya1 = ys1 / len(l1)\n",
    "for i in l2:\n",
    "    xs2 += i[0]\n",
    "    ys2 += i[1]\n",
    "xa2 = xs2 / len(l2)\n",
    "ya2 = ys2 / len(l2)\n",
    "print((xa1, ya1), (xa2, ya2))"
   ]
  },
  {
   "cell_type": "code",
   "execution_count": 8,
   "metadata": {},
   "outputs": [
    {
     "name": "stdout",
     "output_type": "stream",
     "text": [
      "c1: 8.92125 c2: 0.05555555555555558\n",
      "c1: 11.73625 c2: 0.5388888888888888\n",
      "c1: 10.596250000000001 c2: 0.3388888888888889\n",
      "c1: 0.78125 c2: 5.575555555555555\n",
      "c1: 0.15625000000000006 c2: 10.592222222222222\n",
      "c1: 0.79625 c2: 16.392222222222223\n",
      "c1: 0.02125 c2: 9.622222222222224\n"
     ]
    }
   ],
   "source": [
    "c1 = (xa1, ya1)\n",
    "c2 = (xa2, ya2)\n",
    "for p in t:\n",
    "    print(\"c1:\", ((p[0]-c1[0])*(p[0]-c1[0])+(p[1]-c1[1])*(p[1]-c1[1])), \"c2:\", ((p[0]-c2[0])*(p[0]-c2[0])+(p[1]-c2[1])*(p[1]-c2[1])))"
   ]
  },
  {
   "cell_type": "code",
   "execution_count": 10,
   "metadata": {},
   "outputs": [
    {
     "data": {
      "text/plain": [
       "1.0"
      ]
     },
     "execution_count": 10,
     "metadata": {},
     "output_type": "execute_result"
    }
   ],
   "source": [
    "75*12/25 -75*1/5 -75*4/15"
   ]
  },
  {
   "cell_type": "code",
   "execution_count": 17,
   "metadata": {},
   "outputs": [
    {
     "name": "stdout",
     "output_type": "stream",
     "text": [
      "0.135873\n",
      "0.062973\n",
      "0.700567\n",
      "0.997527\n",
      "0.99593\n",
      "0.987872\n"
     ]
    }
   ],
   "source": [
    "import numpy as np\n",
    "s = ((2.5, 3.0, 1), (3.0, 2.0, 1), (3.5, 3.0, 1), (5.0, 3.5, 0), (4.0, 4.5, 0), (4.0, 4.0, 0))\n",
    "w = (15.2, -2.7, -2.2)\n",
    "netinput = []\n",
    "for i in s:\n",
    "    netinput.append(round(1*w[0]+i[0]*w[1]+i[1]*w[2], 4))\n",
    "for n in netinput:\n",
    "    print(round(1 - np.exp(n)/(1+np.exp(n)), 6))"
   ]
  },
  {
   "cell_type": "code",
   "execution_count": 18,
   "metadata": {},
   "outputs": [
    {
     "data": {
      "text/plain": [
       "(0.7790649000000001, 1.2220022)"
      ]
     },
     "execution_count": 18,
     "metadata": {},
     "output_type": "execute_result"
    }
   ],
   "source": [
    "errors = (0.135873, 0.062973, 0.7006, -0.0025, -0.0041, -0.0121)\n",
    "sa, sb = 0, 0\n",
    "for i in range(6):\n",
    "    sa += t[i][0] * errors[i]\n",
    "    sb += t[i][1] * errors[i]\n",
    "sa, sb"
   ]
  },
  {
   "cell_type": "code",
   "execution_count": 21,
   "metadata": {},
   "outputs": [
    {
     "data": {
      "text/plain": [
       "1.5993603885382377"
      ]
     },
     "execution_count": 21,
     "metadata": {},
     "output_type": "execute_result"
    }
   ],
   "source": [
    "cost = 0\n",
    "cost -= np.log(0.8445)\n",
    "cost -= np.log(0.9278)\n",
    "cost -= np.log(0.2617)\n",
    "cost -= np.log(1-0.0019)\n",
    "cost -= np.log(1-0.0032)\n",
    "cost -= np.log(1-0.0097)\n",
    "cost"
   ]
  },
  {
   "cell_type": "code",
   "execution_count": 10,
   "metadata": {},
   "outputs": [
    {
     "data": {
      "text/plain": [
       "array([[0.7436 , 2.45615, 2.15245]])"
      ]
     },
     "execution_count": 10,
     "metadata": {},
     "output_type": "execute_result"
    }
   ],
   "source": [
    "# Q4(1)GD\n",
    "import numpy as np\n",
    "err = np.array([[0.1040, 0.0482, 0.6203, -0.0039, -0.0064, -0.0186]])\n",
    "x = np.array([[1, 2.5, 3.0], [1, 3.0, 2.0], [1, 3.5, 3.0], [1, 5.0, 3.5], [1, 4.0, 4.5], [1, 4.0, 4.0]])\n",
    "np.dot(err, x)"
   ]
  },
  {
   "cell_type": "code",
   "execution_count": 12,
   "metadata": {},
   "outputs": [
    {
     "data": {
      "text/plain": [
       "(15.2243, -2.6197, -2.1294)"
      ]
     },
     "execution_count": 12,
     "metadata": {},
     "output_type": "execute_result"
    }
   ],
   "source": [
    "w0 = [15.2169, -2.6443, -2.1509]\n",
    "g0 = [0.7436 , 2.4562, 2.1525]\n",
    "round(w0[0]+g0[0]*0.01, 4), round(w0[1]+g0[1]*0.01, 4), round(w0[2]+g0[2]*0.01, 4)"
   ]
  },
  {
   "cell_type": "code",
   "execution_count": 32,
   "metadata": {},
   "outputs": [
    {
     "data": {
      "text/plain": [
       "array([[-5.971619 ,  2.7171645]])"
      ]
     },
     "execution_count": 32,
     "metadata": {},
     "output_type": "execute_result"
    }
   ],
   "source": [
    "# w = np.array([[15.2, -2.7, -2.2]])\n",
    "# w = np.array([[15.2088, -2.671, -2.1744]])\n",
    "w = np.array([[15.2169, -2.6443, -2.1509]])\n",
    "np.dot(w, x.T)"
   ]
  },
  {
   "cell_type": "code",
   "execution_count": 7,
   "metadata": {},
   "outputs": [
    {
     "data": {
      "text/plain": [
       "[0.896, 0.9518, 0.3797, 0.0039, 0.0064, 0.0186]"
      ]
     },
     "execution_count": 7,
     "metadata": {},
     "output_type": "execute_result"
    }
   ],
   "source": [
    "netinput = [ 2.1535,  2.9822 , -0.4909, -5.5328, -5.0394, -3.9639]\n",
    "output=[]\n",
    "for n in netinput:\n",
    "    output.append(round(np.exp(n)/(1+np.exp(n)), 4))\n",
    "output"
   ]
  },
  {
   "cell_type": "code",
   "execution_count": 8,
   "metadata": {},
   "outputs": [
    {
     "data": {
      "text/plain": [
       "[0.104, 0.0482, 0.6203, -0.0039, -0.0064, -0.0186]"
      ]
     },
     "execution_count": 8,
     "metadata": {},
     "output_type": "execute_result"
    }
   ],
   "source": [
    "errors = []\n",
    "y = [1, 1, 1, 0, 0, 0]\n",
    "for i in range(6):\n",
    "    errors.append(round(y[i]-output[i], 4))\n",
    "errors"
   ]
  },
  {
   "cell_type": "code",
   "execution_count": 9,
   "metadata": {},
   "outputs": [
    {
     "data": {
      "text/plain": [
       "1.1566923760069878"
      ]
     },
     "execution_count": 9,
     "metadata": {},
     "output_type": "execute_result"
    }
   ],
   "source": [
    "cost = 0\n",
    "for i in range(6):\n",
    "    if y[i] == 1:\n",
    "        cost -= np.log(output[i])\n",
    "    else:\n",
    "        cost -= np.log(1-output[i])\n",
    "cost "
   ]
  },
  {
   "cell_type": "code",
   "execution_count": 95,
   "metadata": {},
   "outputs": [
    {
     "name": "stdout",
     "output_type": "stream",
     "text": [
      "[[15.21805431 -2.64163953 -2.14812778]]\n"
     ]
    },
    {
     "data": {
      "text/plain": [
       "array([[-5.015079, -0.472067]])"
      ]
     },
     "execution_count": 95,
     "metadata": {},
     "output_type": "execute_result"
    }
   ],
   "source": [
    "# Q4(1) MGD\n",
    "import numpy as np\n",
    "idx = [4, 2]\n",
    "xx = [[1, 2.5, 3.0], [1, 3.0, 2.0], [1, 3.5, 3.0], [1, 5.0, 3.5], [1, 4.0, 4.5], [1, 4.0, 4.0]]\n",
    "x = np.array([xx[idx[0]], xx[idx[1]]])\n",
    "# w = np.array([[15.2, -2.7, -2.2]])\n",
    "print(w)\n",
    "netinput = np.dot(w, x.T)\n",
    "netinput = np.round(netinput, 6)\n",
    "netinput"
   ]
  },
  {
   "cell_type": "code",
   "execution_count": 96,
   "metadata": {},
   "outputs": [
    {
     "name": "stdout",
     "output_type": "stream",
     "text": [
      "[[-5.015079 -0.472067]]\n"
     ]
    },
    {
     "data": {
      "text/plain": [
       "array([0.006593, 0.384127])"
      ]
     },
     "execution_count": 96,
     "metadata": {},
     "output_type": "execute_result"
    }
   ],
   "source": [
    "print(netinput)\n",
    "output=[]\n",
    "for n in netinput[0]:\n",
    "    output.append(round(np.exp(n)/(1+np.exp(n)), 6))\n",
    "output = np.round(output, 6)\n",
    "output"
   ]
  },
  {
   "cell_type": "code",
   "execution_count": 97,
   "metadata": {},
   "outputs": [
    {
     "data": {
      "text/plain": [
       "[-0.006593, 0.615873]"
      ]
     },
     "execution_count": 97,
     "metadata": {},
     "output_type": "execute_result"
    }
   ],
   "source": [
    "errors = []\n",
    "y = [1, 1, 1, 0, 0, 0]\n",
    "for i in range(2):\n",
    "    errors.append(round(y[idx[i]]-output[i], 6))\n",
    "errors"
   ]
  },
  {
   "cell_type": "code",
   "execution_count": 98,
   "metadata": {},
   "outputs": [
    {
     "name": "stdout",
     "output_type": "stream",
     "text": [
      "0.993407\n",
      "0.384127\n"
     ]
    },
    {
     "data": {
      "text/plain": [
       "0.963397"
      ]
     },
     "execution_count": 98,
     "metadata": {},
     "output_type": "execute_result"
    }
   ],
   "source": [
    "cost = 0\n",
    "for i in range(2):\n",
    "    if y[idx[i]] == 1:\n",
    "        print(output[i])\n",
    "        cost -= np.log(output[i])\n",
    "    else:\n",
    "        print(1-output[i])\n",
    "        cost -= np.log(1-output[i])\n",
    "round(cost, 6)"
   ]
  },
  {
   "cell_type": "code",
   "execution_count": 99,
   "metadata": {},
   "outputs": [
    {
     "data": {
      "text/plain": [
       "array([[0.60928 , 2.129184, 1.81795 ]])"
      ]
     },
     "execution_count": 99,
     "metadata": {},
     "output_type": "execute_result"
    }
   ],
   "source": [
    "err = np.array([errors])\n",
    "x = np.array([xx[idx[0]], xx[idx[1]]])\n",
    "gr = np.dot(err, x)\n",
    "gr = np.round(gr, 6)\n",
    "gr"
   ]
  },
  {
   "cell_type": "code",
   "execution_count": 100,
   "metadata": {},
   "outputs": [
    {
     "name": "stdout",
     "output_type": "stream",
     "text": [
      "[[0.60928  2.129184 1.81795 ]]\n"
     ]
    },
    {
     "data": {
      "text/plain": [
       "array([[15.224147, -2.620348, -2.129948]])"
      ]
     },
     "execution_count": 100,
     "metadata": {},
     "output_type": "execute_result"
    }
   ],
   "source": [
    "print(gr)\n",
    "w = w+gr*0.01\n",
    "np.round(w, 6)"
   ]
  },
  {
   "cell_type": "code",
   "execution_count": 102,
   "metadata": {},
   "outputs": [
    {
     "name": "stdout",
     "output_type": "stream",
     "text": [
      "[[21.7 -2.4 -3.8]]\n"
     ]
    },
    {
     "data": {
      "text/plain": [
       "array([[-1.9 ,  1.6 , -1.64, -5.  ]])"
      ]
     },
     "execution_count": 102,
     "metadata": {},
     "output_type": "execute_result"
    }
   ],
   "source": [
    "x = np.array([[1, 3.5, 4.0], [1, 6.0, 1.5], [1, 4.5, 3.3], [1, 4.0, 4.5]])\n",
    "w = np.array([[21.7, -2.4, -3.8]])\n",
    "print(w)\n",
    "netinput = np.dot(w, x.T)\n",
    "netinput = np.round(netinput, 6)\n",
    "netinput"
   ]
  },
  {
   "cell_type": "code",
   "execution_count": 103,
   "metadata": {},
   "outputs": [
    {
     "name": "stdout",
     "output_type": "stream",
     "text": [
      "[[-1.9   1.6  -1.64 -5.  ]]\n"
     ]
    },
    {
     "data": {
      "text/plain": [
       "array([0.130108, 0.832018, 0.162465, 0.006693])"
      ]
     },
     "execution_count": 103,
     "metadata": {},
     "output_type": "execute_result"
    }
   ],
   "source": [
    "print(netinput)\n",
    "output=[]\n",
    "for n in netinput[0]:\n",
    "    output.append(round(np.exp(n)/(1+np.exp(n)), 6))\n",
    "output = np.round(output, 6)\n",
    "output"
   ]
  },
  {
   "cell_type": "code",
   "execution_count": null,
   "metadata": {},
   "outputs": [],
   "source": []
  },
  {
   "cell_type": "code",
   "execution_count": 16,
   "metadata": {},
   "outputs": [
    {
     "data": {
      "text/plain": [
       "array([[-1.9 ,  1.6 , -1.64]])"
      ]
     },
     "execution_count": 16,
     "metadata": {},
     "output_type": "execute_result"
    }
   ],
   "source": [
    "# Q4(2)\n",
    "idx = [0, 1, 2]\n",
    "xx = [[1, 3.5, 4.0], [1, 6.0, 1.5], [1, 4.5, 3.3]]\n",
    "x = np.array([xx[0], xx[1], xx[2]])\n",
    "w = np.array([[21.7, -2.4, -3.8]])\n",
    "netinput = np.dot(w, x.T)\n",
    "netinput"
   ]
  },
  {
   "cell_type": "code",
   "execution_count": 47,
   "metadata": {},
   "outputs": [
    {
     "data": {
      "text/plain": [
       "[0.1301, 0.832, 0.1625]"
      ]
     },
     "execution_count": 47,
     "metadata": {},
     "output_type": "execute_result"
    }
   ],
   "source": [
    "output=[]\n",
    "for n in netinput[0]:\n",
    "    output.append(round(np.exp(n)/(1+np.exp(n)), 4))\n",
    "output"
   ]
  },
  {
   "cell_type": "code",
   "execution_count": 48,
   "metadata": {},
   "outputs": [
    {
     "data": {
      "text/plain": [
       "[0.8699, -0.832, 0.8375]"
      ]
     },
     "execution_count": 48,
     "metadata": {},
     "output_type": "execute_result"
    }
   ],
   "source": [
    "errors = []\n",
    "y = [1, 0, 1]\n",
    "for i in range(3):\n",
    "    errors.append(round(y[idx[i]]-output[i], 4))\n",
    "errors"
   ]
  },
  {
   "cell_type": "code",
   "execution_count": 5,
   "metadata": {},
   "outputs": [
    {
     "name": "stdout",
     "output_type": "stream",
     "text": [
      "1 1 8.3\n",
      "1 2 13.9\n",
      "1 3 17.8\n",
      "1 4 12.1\n",
      "2 1 19.8\n",
      "2 2 30.3\n",
      "2 3 34.8\n",
      "2 4 22.5\n",
      "3 1 33.0\n",
      "3 2 48.3\n",
      "3 3 52.8\n",
      "3 4 33.3\n",
      "4 1 18.1\n",
      "4 2 25.3\n",
      "4 3 27.4\n",
      "4 4 16.3\n"
     ]
    }
   ],
   "source": [
    "# Q1(1)\n",
    "x = [[0, 0, 0, 0, 0, 0], [0, 0, 1, 2, 3, 0], [0, 4, 5, 6, 7, 0], [0, 8, 9, 10, 11, 0], [0, 12, 13, 14, 15, 0], [0, 0, 0, 0, 0, 0]]\n",
    "w = [[0.1, 0.2, 0.3], [0.4, 0.5, 0.6], [0.7, 0.8, 0.9]]\n",
    "for i in range(4):\n",
    "    for j in range(4):\n",
    "        s = 0\n",
    "        for p in range(3):\n",
    "            for q in range(3):\n",
    "                s += x[i+p][j+q]*w[p][q]\n",
    "        print(i+1, j+1, round(s, 4))"
   ]
  },
  {
   "cell_type": "code",
   "execution_count": null,
   "metadata": {},
   "outputs": [],
   "source": []
  }
 ],
 "metadata": {
  "kernelspec": {
   "display_name": "Python 3",
   "language": "python",
   "name": "python3"
  },
  "language_info": {
   "codemirror_mode": {
    "name": "ipython",
    "version": 3
   },
   "file_extension": ".py",
   "mimetype": "text/x-python",
   "name": "python",
   "nbconvert_exporter": "python",
   "pygments_lexer": "ipython3",
   "version": "3.7.3"
  }
 },
 "nbformat": 4,
 "nbformat_minor": 2
}
