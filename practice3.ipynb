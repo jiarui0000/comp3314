{
 "cells": [
  {
   "cell_type": "code",
   "execution_count": 8,
   "metadata": {},
   "outputs": [
    {
     "data": {
      "text/plain": [
       "43546"
      ]
     },
     "execution_count": 8,
     "metadata": {},
     "output_type": "execute_result"
    }
   ],
   "source": [
    "def max_(a, b):\n",
    "    if a >= b:\n",
    "        return a\n",
    "    else:\n",
    "        return b\n",
    "\n",
    "def getmax(numbers):\n",
    "    l = len(numbers)\n",
    "    if l == 1:\n",
    "        return numbers[0]\n",
    "    elif l == 2:\n",
    "        return max(numbers[0],numbers[1])\n",
    "    else: \n",
    "        return max(getmax(numbers[0: int((l+1)/2)]), getmax(numbers[int((l+1)/2): l]))\n",
    "    \n",
    "getmax([0, 6, 7, 2343, 43546, 45, 232])"
   ]
  },
  {
   "cell_type": "code",
   "execution_count": 4,
   "metadata": {},
   "outputs": [
    {
     "name": "stdout",
     "output_type": "stream",
     "text": [
      "12 1362 1367\n",
      "12 681 1367\n",
      "12 680 1367\n",
      "12 340 1367\n",
      "12 170 1367\n",
      "12 85 1367\n",
      "12 84 1367\n",
      "12 42 1367\n",
      "12 21 1367\n",
      "12 20 1367\n",
      "12 10 1367\n",
      "12 5 1367\n",
      "12 4 1367\n",
      "12 2 1367\n",
      "12 1 1367\n",
      "2 144\n",
      "2 231\n",
      "-1 38\n",
      "2 77\n",
      "2 461\n",
      "-1 64\n",
      "2 1362\n",
      "2 25\n",
      "-1 300\n",
      "2 1145\n",
      "2 72\n",
      "2 1083\n",
      "-1 693\n",
      "2 432\n"
     ]
    },
    {
     "data": {
      "text/plain": [
       "432"
      ]
     },
     "execution_count": 4,
     "metadata": {},
     "output_type": "execute_result"
    }
   ],
   "source": [
    "def module(x, power, p):\n",
    "    print(x, power, p)\n",
    "    if power == 1:\n",
    "        return x\n",
    "    elif power == 0:\n",
    "        return 1\n",
    "    elif (power % 2 == 0):\n",
    "        t = module(x, power//2, p)\n",
    "        t = (t*t) % p\n",
    "        return t\n",
    "    else:\n",
    "        t = module(x, power-1, p)\n",
    "        t = (t*x) % p\n",
    "        print(\"-1\", t)\n",
    "        return t\n",
    "module(12, 1362, 1367)\n",
    "        "
   ]
  },
  {
   "cell_type": "code",
   "execution_count": 3,
   "metadata": {},
   "outputs": [
    {
     "data": {
      "text/plain": [
       "1097"
      ]
     },
     "execution_count": 3,
     "metadata": {},
     "output_type": "execute_result"
    }
   ],
   "source": [
    "(432*8*8*8) % 1367"
   ]
  },
  {
   "cell_type": "code",
   "execution_count": 12,
   "metadata": {},
   "outputs": [
    {
     "name": "stdout",
     "output_type": "stream",
     "text": [
      "5 1326 1367\n",
      "5 663 1367\n",
      "5 662 1367\n",
      "5 331 1367\n",
      "5 330 1367\n",
      "5 165 1367\n",
      "5 164 1367\n",
      "5 82 1367\n",
      "5 41 1367\n",
      "5 40 1367\n",
      "5 20 1367\n",
      "5 10 1367\n",
      "5 5 1367\n",
      "5 4 1367\n",
      "5 2 1367\n",
      "5 1 1367\n",
      "2 25\n",
      "2 625\n",
      "-1 391\n",
      "2 1144\n",
      "2 517\n",
      "2 724\n",
      "-1 886\n",
      "2 338\n",
      "2 783\n",
      "-1 1181\n",
      "2 421\n",
      "-1 738\n",
      "2 578\n",
      "-1 156\n",
      "2 1097\n"
     ]
    },
    {
     "data": {
      "text/plain": [
       "1097"
      ]
     },
     "execution_count": 12,
     "metadata": {},
     "output_type": "execute_result"
    }
   ],
   "source": [
    "module(5, 1326, 1367)"
   ]
  },
  {
   "cell_type": "code",
   "execution_count": 11,
   "metadata": {},
   "outputs": [
    {
     "data": {
      "text/plain": [
       "1097"
      ]
     },
     "execution_count": 11,
     "metadata": {},
     "output_type": "execute_result"
    }
   ],
   "source": [
    "(432*512) % 1367"
   ]
  },
  {
   "cell_type": "code",
   "execution_count": null,
   "metadata": {},
   "outputs": [],
   "source": []
  }
 ],
 "metadata": {
  "kernelspec": {
   "display_name": "Python 3",
   "language": "python",
   "name": "python3"
  },
  "language_info": {
   "codemirror_mode": {
    "name": "ipython",
    "version": 3
   },
   "file_extension": ".py",
   "mimetype": "text/x-python",
   "name": "python",
   "nbconvert_exporter": "python",
   "pygments_lexer": "ipython3",
   "version": "3.7.3"
  }
 },
 "nbformat": 4,
 "nbformat_minor": 2
}
